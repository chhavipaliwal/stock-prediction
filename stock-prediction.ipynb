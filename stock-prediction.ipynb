import yfinance as yf
import numpy as np
import matplotlib.pyplot as plt
from sklearn.preprocessing import MinMaxScaler
from tensorflow.keras.models import Sequential
from tensorflow.keras.layers import Conv1D, LSTM, Dense

# 1️⃣ Download 10 years of Apple stock data
ticker = "AAPL"
data = yf.download(ticker, start="2015-10-27", end="2025-10-26")
close = data['Close'].values.reshape(-1, 1)

# 2️⃣ Scale data between 0 and 1
scaler = MinMaxScaler()
scaled = scaler.fit_transform(close)

# 3️⃣ Make sequences: use past 60 days to predict next day
X, y = [], []
for i in range(60, len(scaled)):
    X.append(scaled[i-60:i])
    y.append(scaled[i])
X = np.array(X)
y = np.array(y)

# 4️⃣ Split into train & test
split = int(len(X) * 0.8)
X_train, X_test = X[:split], X[split:]
y_train, y_test = y[:split], y[split:]

# 5️⃣ Build a simple CNN + LSTM model
model = Sequential([
    Conv1D(32, 3, activation='relu', input_shape=(60, 1)),
    LSTM(32),
    Dense(1)
])
model.compile(optimizer='adam', loss='mse')
model.fit(X_train, y_train, epochs=5, batch_size=16, verbose=1)

# 6️⃣ Predict on test data
pred = model.predict(X_test)
pred = scaler.inverse_transform(pred)
actual = scaler.inverse_transform(y_test)

# 7️⃣ Plot actual vs predicted
plt.plot(actual, label='Actual Close Price')
plt.plot(pred, label='Predicted Close Price')
plt.legend()
plt.title(f"{ticker} Stock Price Prediction")
plt.show()

# 8️⃣ Predict next day (27-Oct-2025)
last_60 = scaled[-60:]
next_day = model.predict(last_60.reshape(1, 60, 1))
next_day_price = scaler.inverse_transform(next_day)[0][0]
print(f"Predicted Close Price for {ticker} on 2025-10-27: ${next_day_price:.2f}")
